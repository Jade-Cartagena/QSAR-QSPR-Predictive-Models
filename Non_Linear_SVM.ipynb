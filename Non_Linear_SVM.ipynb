{
  "nbformat": 4,
  "nbformat_minor": 0,
  "metadata": {
    "colab": {
      "provenance": [],
      "authorship_tag": "ABX9TyODSTldV17NZRW+WobAvPIJ",
      "include_colab_link": true
    },
    "kernelspec": {
      "name": "python3",
      "display_name": "Python 3"
    },
    "language_info": {
      "name": "python"
    }
  },
  "cells": [
    {
      "cell_type": "markdown",
      "metadata": {
        "id": "view-in-github",
        "colab_type": "text"
      },
      "source": [
        "<a href=\"https://colab.research.google.com/github/Jade-Cartagena/QSAR-QSPR-Predictive-Models/blob/Predictive-Models/Non_Linear_SVM.ipynb\" target=\"_parent\"><img src=\"https://colab.research.google.com/assets/colab-badge.svg\" alt=\"Open In Colab\"/></a>"
      ]
    },
    {
      "cell_type": "code",
      "execution_count": null,
      "metadata": {
        "id": "iC5KkbmdBEU1"
      },
      "outputs": [],
      "source": [
        "import pandas as pd\n",
        "import numpy as np\n",
        "from rdkit import Chem\n",
        "from rdkit.Chem.rdFingerprintGenerator import GetMorganGenerator\n",
        "from rdkit.DataStructs.cDataStructs import ConvertToNumpyArray\n",
        "from sklearn.model_selection import cross_val_score\n",
        "from sklearn.impute import KNNImputer\n",
        "from sklearn.preprocessing import StandardScaler\n",
        "from sklearn.model_selection import train_test_split, StratifiedKFold, RandomizedSearchCV\n",
        "from sklearn.feature_selection import SelectKBest, f_classif\n",
        "from sklearn.svm import SVC\n",
        "from sklearn.metrics import (\n",
        "    classification_report, accuracy_score, roc_auc_score,\n",
        "    confusion_matrix, precision_recall_curve, roc_curve\n",
        ")\n",
        "\n",
        "import matplotlib.pyplot as plt\n",
        "import seaborn as sns\n",
        "import warnings\n",
        "warnings.filterwarnings('ignore')"
      ]
    },
    {
      "cell_type": "code",
      "execution_count": null,
      "metadata": {
        "colab": {
          "base_uri": "https://localhost:8080/"
        },
        "id": "JKppI2GHRAvQ",
        "outputId": "89535913-b48e-41df-8d5d-db927c4d187f"
      },
      "outputs": [
        {
          "output_type": "stream",
          "name": "stderr",
          "text": [
            "[09:54:45] WARNING: not removing hydrogen atom without neighbors\n"
          ]
        },
        {
          "output_type": "stream",
          "name": "stdout",
          "text": [
            "\n",
            "=== SVM Model for Antioxidant Prediction ===\n",
            "Fitting 3 folds for each of 15 candidates, totalling 45 fits\n",
            "Cross-validated Accuracy: 0.8767714109673443\n",
            "Cross-validated ROC AUC: 0.9314099855319706\n",
            "Best Parameters: {'probability': True, 'kernel': 'rbf', 'gamma': 'scale', 'degree': 2, 'class_weight': 'balanced', 'C': 1}\n",
            "              precision    recall  f1-score   support\n",
            "\n",
            "           0       0.83      0.94      0.88       416\n",
            "           1       0.93      0.80      0.86       396\n",
            "\n",
            "    accuracy                           0.87       812\n",
            "   macro avg       0.88      0.87      0.87       812\n",
            "weighted avg       0.88      0.87      0.87       812\n",
            "\n",
            "Accuracy: 0.8719211822660099\n",
            "ROC AUC: 0.933423781080031\n"
          ]
        },
        {
          "output_type": "display_data",
          "data": {
            "text/plain": [
              "<Figure size 640x480 with 2 Axes>"
            ],
            "image/png": "[encoded data removed]"
          },
          "metadata": {}
        },
        {
          "output_type": "error",
          "ename": "AttributeError",
          "evalue": "'SVC' object has no attribute 'feature_importances_'",
          "traceback": [
            "\u001b[0;31m---------------------------------------------------------------------------\u001b[0m",
            "\u001b[0;31mAttributeError\u001b[0m                            Traceback (most recent call last)",
            "\u001b[0;32m/tmp/ipython-input-58-864037886.py\u001b[0m in \u001b[0;36m<cell line: 0>\u001b[0;34m()\u001b[0m\n\u001b[1;32m    103\u001b[0m \u001b[0;34m\u001b[0m\u001b[0m\n\u001b[1;32m    104\u001b[0m     \u001b[0;31m# Feature Importance\u001b[0m\u001b[0;34m\u001b[0m\u001b[0;34m\u001b[0m\u001b[0m\n\u001b[0;32m--> 105\u001b[0;31m     \u001b[0mimportances\u001b[0m \u001b[0;34m=\u001b[0m \u001b[0mbest_model\u001b[0m\u001b[0;34m.\u001b[0m\u001b[0mfeature_importances_\u001b[0m\u001b[0;34m\u001b[0m\u001b[0;34m\u001b[0m\u001b[0m\n\u001b[0m\u001b[1;32m    106\u001b[0m     \u001b[0mfeat_df\u001b[0m \u001b[0;34m=\u001b[0m \u001b[0mpd\u001b[0m\u001b[0;34m.\u001b[0m\u001b[0mDataFrame\u001b[0m\u001b[0;34m(\u001b[0m\u001b[0;34m{\u001b[0m\u001b[0;34m'Feature'\u001b[0m\u001b[0;34m:\u001b[0m \u001b[0mselected_features\u001b[0m\u001b[0;34m,\u001b[0m \u001b[0;34m'Importance'\u001b[0m\u001b[0;34m:\u001b[0m \u001b[0mimportances\u001b[0m\u001b[0;34m}\u001b[0m\u001b[0;34m)\u001b[0m\u001b[0;34m\u001b[0m\u001b[0;34m\u001b[0m\u001b[0m\n\u001b[1;32m    107\u001b[0m     \u001b[0mfeat_df\u001b[0m \u001b[0;34m=\u001b[0m \u001b[0mfeat_df\u001b[0m\u001b[0;34m.\u001b[0m\u001b[0msort_values\u001b[0m\u001b[0;34m(\u001b[0m\u001b[0mby\u001b[0m\u001b[0;34m=\u001b[0m\u001b[0;34m'Importance'\u001b[0m\u001b[0;34m,\u001b[0m \u001b[0mascending\u001b[0m\u001b[0;34m=\u001b[0m\u001b[0;32mFalse\u001b[0m\u001b[0;34m)\u001b[0m\u001b[0;34m\u001b[0m\u001b[0;34m\u001b[0m\u001b[0m\n",
            "\u001b[0;31mAttributeError\u001b[0m: 'SVC' object has no attribute 'feature_importances_'"
          ]
        }
      ],
      "source": [
        "# === Load and preprocess data ===\n",
        "df = pd.read_csv(\"/content/QSAR-QSPR Finalized Dataset.csv\")\n",
        "smiles_list = df[\"SMILES\"].tolist()\n",
        "\n",
        "# Generate Morgan fingerprints\n",
        "generator = GetMorganGenerator(radius=2, fpSize=2048)\n",
        "fps = []\n",
        "for smi in smiles_list:\n",
        "    mol = Chem.MolFromSmiles(smi)\n",
        "    if mol:\n",
        "        fp = generator.GetFingerprint(mol)\n",
        "        arr = np.zeros((2048,), dtype=int)\n",
        "        ConvertToNumpyArray(fp, arr)\n",
        "        fps.append(arr)\n",
        "    else:\n",
        "        fps.append(np.zeros((2048,), dtype=int))\n",
        "\n",
        "fps_np = np.array(fps)\n",
        "\n",
        "# Clean and prepare the dataset\n",
        "df = df.drop(columns=[\"SMILES\", \"IUPAC_NAME\", \"NAME\"])\n",
        "target_cols = ['Antioxidant', 'Anti-inflammatory', 'Toxic']\n",
        "df[target_cols] = df[target_cols].astype(int)\n",
        "\n",
        "# Descriptor + fingerprint feature matrix\n",
        "features = df.drop(columns=target_cols).select_dtypes(include='number')\n",
        "features_imputed = KNNImputer(n_neighbors=5).fit_transform(features)\n",
        "X_scaled = StandardScaler().fit_transform(features_imputed)\n",
        "X_combined = np.hstack([X_scaled, fps_np])\n",
        "\n",
        "# === Modeling for each target ===\n",
        "for target in target_cols:\n",
        "    print(f\"\\n=== SVM Model for {target} Prediction ===\")\n",
        "\n",
        "    y = df[target]\n",
        "\n",
        "    # Feature selection\n",
        "    selector = SelectKBest(score_func=f_classif, k=min(1000, int(X_combined.shape[1] * 0.5)))\n",
        "    X_selected = selector.fit_transform(X_combined, y)\n",
        "\n",
        "    # Train-test split\n",
        "    X_train, X_test, y_train, y_test = train_test_split(X_selected, y, test_size=0.2, stratify=y, random_state=42)\n",
        "\n",
        "    # Hyperparameter tuning\n",
        "    param_dist = {\n",
        "        'C': [0.01, 0.1, 1],\n",
        "        'kernel': ['rbf', 'poly'],\n",
        "        'gamma': ['scale', 0.01],\n",
        "        'degree': [2, 3],\n",
        "        'class_weight': ['balanced'],\n",
        "        'probability': [True]\n",
        "    }\n",
        "\n",
        "    model = SVC(random_state=42)\n",
        "    cv = StratifiedKFold(n_splits=3, shuffle=True, random_state=42)\n",
        "    search = RandomizedSearchCV(model, param_distributions=param_dist, n_iter=15, cv=cv, verbose=1, n_jobs=-1, random_state=42)\n",
        "    search.fit(X_train, y_train)\n",
        "    best_model = search.best_estimator_\n",
        "\n",
        "    # Cross-validation\n",
        "    cv_scores = cross_val_score(best_model, X_train, y_train, cv=3) # Changed cv to 3 to match calibrated_model\n",
        "    print(\"Cross-validated Accuracy:\", cv_scores.mean())\n",
        "    cv_roc_auc = cross_val_score(best_model, X_train, y_train, cv=3, scoring='roc_auc', n_jobs=-1)\n",
        "    print(\"Cross-validated ROC AUC:\", cv_roc_auc.mean())\n",
        "\n",
        "    # Prediction\n",
        "    y_prob = best_model.predict_proba(X_test)[:, 1]\n",
        "    y_pred = (y_prob >= 0.5).astype(int)\n",
        "\n",
        "    # === Evaluation ===\n",
        "    print(\"Best Parameters:\", search.best_params_)\n",
        "    print(classification_report(y_test, y_pred))\n",
        "    print(\"Accuracy:\", accuracy_score(y_test, y_pred))\n",
        "    print(\"ROC AUC:\", roc_auc_score(y_test, y_prob))\n",
        "\n",
        "    # Confusion Matrix\n",
        "    sns.heatmap(confusion_matrix(y_test, y_pred), annot=True, fmt='d', cmap='Blues')\n",
        "    plt.title(f\"Confusion Matrix for {target}\")\n",
        "    plt.xlabel(\"Predicted\")\n",
        "    plt.ylabel(\"Actual\")\n",
        "    plt.show()\n",
        "\n",
        "    # Feature Importance\n",
        "    importances = best_model.feature_importances_\n",
        "    feat_df = pd.DataFrame({'Feature': selected_features, 'Importance': importances})\n",
        "    feat_df = feat_df.sort_values(by='Importance', ascending=False)\n",
        "\n",
        "    plt.figure(figsize=(10, 5))\n",
        "    sns.barplot(x='Importance', y='Feature', data=feat_df.head(10))\n",
        "    plt.title(f\"Top 10 Features for {target}\")\n",
        "    plt.tight_layout()\n",
        "    plt.show()\n",
        "\n",
        "    # PR Curve\n",
        "    precisions, recalls, _ = precision_recall_curve(y_test, y_prob)\n",
        "    plt.plot(recalls, precisions, label=\"PR Curve\")\n",
        "    plt.xlabel(\"Recall\")\n",
        "    plt.ylabel(\"Precision\")\n",
        "    plt.title(f\"Precision-Recall Curve for {target}\")\n",
        "    plt.legend()\n",
        "    plt.grid()\n",
        "    plt.show()\n",
        "\n",
        "    # ROC Curve\n",
        "    fpr, tpr, _ = roc_curve(y_test, y_prob)\n",
        "    plt.plot(fpr, tpr, label=\"ROC Curve\")\n",
        "    plt.xlabel(\"False Positive Rate\")\n",
        "    plt.ylabel(\"True Positive Rate\")\n",
        "    plt.title(f\"ROC Curve for {target}\")\n",
        "    plt.legend()\n",
        "    plt.grid()\n",
        "    plt.show()\n"
      ]
    }
  ]
}